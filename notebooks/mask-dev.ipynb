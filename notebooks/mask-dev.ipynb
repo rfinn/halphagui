{
 "cells": [
  {
   "cell_type": "code",
   "execution_count": 1,
   "metadata": {},
   "outputs": [],
   "source": [
    "import numpy as np\n",
    "from skimage.draw import disk\n",
    "mask = np.zeros((10, 10), dtype=np.uint8)\n",
    "row = 4\n",
    "col = 5\n",
    "radius = 5\n",
    "# modern scikit uses a tuple for center\n",
    "rr, cc = disk((row, col), radius)\n",
    "mask[rr, cc] = 1"
   ]
  },
  {
   "cell_type": "code",
   "execution_count": 2,
   "metadata": {},
   "outputs": [],
   "source": [
    "from matplotlib import pyplot as plt"
   ]
  },
  {
   "cell_type": "code",
   "execution_count": 3,
   "metadata": {},
   "outputs": [
    {
     "data": {
      "text/plain": [
       "<matplotlib.image.AxesImage at 0x7fd38897ffa0>"
      ]
     },
     "execution_count": 3,
     "metadata": {},
     "output_type": "execute_result"
    },
    {
     "data": {
      "image/png": "[encoded data removed]",
      "text/plain": [
       "<Figure size 432x288 with 1 Axes>"
      ]
     },
     "metadata": {
      "needs_background": "light"
     },
     "output_type": "display_data"
    }
   ],
   "source": [
    "plt.imshow(mask)"
   ]
  },
  {
   "cell_type": "code",
   "execution_count": 4,
   "metadata": {},
   "outputs": [],
   "source": [
    "def create_circular_mask(h, w, center=None, radius=None):\n",
    "\n",
    "    if center is None: # use the middle of the image\n",
    "        center = (int(w/2), int(h/2))\n",
    "    if radius is None: # use the smallest distance between the center and image walls\n",
    "        radius = min(center[0], center[1], w-center[0], h-center[1])\n",
    "\n",
    "    Y, X = np.ogrid[:h, :w]\n",
    "    dist_from_center = np.sqrt((X - center[0])**2 + (Y-center[1])**2)\n",
    "\n",
    "    mask = dist_from_center <= radius\n",
    "    return mask"
   ]
  },
  {
   "cell_type": "code",
   "execution_count": 5,
   "metadata": {},
   "outputs": [],
   "source": [
    "h=10\n",
    "w=10\n",
    "im = np.zeros((8, 8), dtype=np.uint8)"
   ]
  },
  {
   "cell_type": "code",
   "execution_count": 7,
   "metadata": {},
   "outputs": [],
   "source": [
    "row = 4\n",
    "col = 5\n",
    "radius = 5\n",
    "mask2 = create_circular_mask(h,w,center=(row,col),radius=radius)"
   ]
  },
  {
   "cell_type": "code",
   "execution_count": 8,
   "metadata": {},
   "outputs": [
    {
     "data": {
      "text/plain": [
       "<matplotlib.image.AxesImage at 0x7fd3983f3dc0>"
      ]
     },
     "execution_count": 8,
     "metadata": {},
     "output_type": "execute_result"
    },
    {
     "data": {
      "image/png": "[encoded data removed]",
      "text/plain": [
       "<Figure size 432x288 with 1 Axes>"
      ]
     },
     "metadata": {
      "needs_background": "light"
     },
     "output_type": "display_data"
    }
   ],
   "source": [
    "plt.imshow(mask2)"
   ]
  },
  {
   "cell_type": "code",
   "execution_count": null,
   "metadata": {},
   "outputs": [],
   "source": []
  },
  {
   "cell_type": "markdown",
   "metadata": {},
   "source": [
    "# Removing objects within a elliptical area\n",
    "\n",
    "https://facultyweb.siena.edu/~rfinn/virgo/cutouts/VFID0610-NGC5985-INT-20190530-p040/VFID0610-NGC5985-INT-20190530-p040.html\n",
    "\n",
    "https://facultyweb.siena.edu/~rfinn/virgo/cutouts/VFID0775-UGC09837-BOK-20220425-VFID0776/VFID0775-UGC09837-BOK-20220425-VFID0776.html"
   ]
  },
  {
   "cell_type": "code",
   "execution_count": 1,
   "metadata": {},
   "outputs": [],
   "source": [
    "import os\n",
    "import numpy as np\n",
    "from astropy.io import fits\n",
    "from matplotlib import pyplot as plt\n",
    "homedir = os.getenv(\"HOME\")"
   ]
  },
  {
   "cell_type": "code",
   "execution_count": 2,
   "metadata": {},
   "outputs": [],
   "source": [
    "os.chdir(homedir+'/research/Virgo/maskwrapper-test/VFID0775-UGC09837-BOK-20220425-VFID0776')"
   ]
  },
  {
   "cell_type": "code",
   "execution_count": 6,
   "metadata": {},
   "outputs": [],
   "source": [
    "!cp VFID0775-UGC09837-BOK-20220425-VFID0776-R-mask.fits test-mask.fits\n"
   ]
  },
  {
   "cell_type": "code",
   "execution_count": 8,
   "metadata": {},
   "outputs": [],
   "source": [
    "mhdu = fits.open('test-mask.fits')"
   ]
  },
  {
   "cell_type": "code",
   "execution_count": 9,
   "metadata": {},
   "outputs": [
    {
     "data": {
      "text/plain": [
       "<matplotlib.image.AxesImage at 0x7f93692e7c40>"
      ]
     },
     "execution_count": 9,
     "metadata": {},
     "output_type": "execute_result"
    },
    {
     "data": {
      "image/png": "[encoded data removed]",
      "text/plain": [
       "<Figure size 432x288 with 1 Axes>"
      ]
     },
     "metadata": {
      "needs_background": "light"
     },
     "output_type": "display_data"
    }
   ],
   "source": [
    "plt.figure()\n",
    "plt.imshow(mhdu[0].data,origin='lower')"
   ]
  },
  {
   "cell_type": "code",
   "execution_count": 36,
   "metadata": {},
   "outputs": [],
   "source": [
    "sma = 150\n",
    "BA = .5\n",
    "a = sma\n",
    "b = BA*a\n",
    "xc = 350\n",
    "yc = 350\n",
    "phi = 10\n",
    "phirad = np.radians(phi)"
   ]
  },
  {
   "cell_type": "code",
   "execution_count": 23,
   "metadata": {},
   "outputs": [],
   "source": [
    "xmax,ymax = mhdu[0].data.shape"
   ]
  },
  {
   "cell_type": "code",
   "execution_count": 22,
   "metadata": {},
   "outputs": [
    {
     "data": {
      "text/plain": [
       "[array([[10]]), array([[10]])]"
      ]
     },
     "execution_count": 22,
     "metadata": {},
     "output_type": "execute_result"
    }
   ],
   "source": [
    "np.meshgrid(10,10)"
   ]
  },
  {
   "cell_type": "code",
   "execution_count": 24,
   "metadata": {},
   "outputs": [],
   "source": [
    "X,Y = np.meshgrid(np.arange(xmax),np.arange(ymax))"
   ]
  },
  {
   "cell_type": "code",
   "execution_count": 25,
   "metadata": {},
   "outputs": [
    {
     "data": {
      "text/plain": [
       "array([[  0,   1,   2, ..., 694, 695, 696],\n",
       "       [  0,   1,   2, ..., 694, 695, 696],\n",
       "       [  0,   1,   2, ..., 694, 695, 696],\n",
       "       ...,\n",
       "       [  0,   1,   2, ..., 694, 695, 696],\n",
       "       [  0,   1,   2, ..., 694, 695, 696],\n",
       "       [  0,   1,   2, ..., 694, 695, 696]])"
      ]
     },
     "execution_count": 25,
     "metadata": {},
     "output_type": "execute_result"
    }
   ],
   "source": [
    "X"
   ]
  },
  {
   "cell_type": "code",
   "execution_count": 39,
   "metadata": {},
   "outputs": [],
   "source": [
    "flag = ((X*np.cos(phirad)-xc)/(a))**2 + ((Y*np.sin(phirad)-yc)/(b))**2 < 1"
   ]
  },
  {
   "cell_type": "code",
   "execution_count": 43,
   "metadata": {},
   "outputs": [],
   "source": [
    "p1 = ((X-xc)*np.cos(phirad)+(Y-yc)*np.sin(phirad))**2/a**2\n",
    "p2 = ((X-xc)*np.sin(phirad)-(Y-yc)*np.cos(phirad))**2/b**2\n",
    "flag2 = p1+p2 < 1"
   ]
  },
  {
   "cell_type": "code",
   "execution_count": 44,
   "metadata": {},
   "outputs": [
    {
     "data": {
      "text/plain": [
       "<matplotlib.image.AxesImage at 0x7f938964c4c0>"
      ]
     },
     "execution_count": 44,
     "metadata": {},
     "output_type": "execute_result"
    },
    {
     "data": {
      "image/png": "[encoded data removed]",
      "text/plain": [
       "<Figure size 432x288 with 1 Axes>"
      ]
     },
     "metadata": {
      "needs_background": "light"
     },
     "output_type": "display_data"
    }
   ],
   "source": [
    "plt.imshow(flag2)"
   ]
  },
  {
   "cell_type": "code",
   "execution_count": 45,
   "metadata": {},
   "outputs": [],
   "source": [
    "def remove_central_objects(mask, sma, PA, BA, xc=None,yc=None):\n",
    "    \"\"\" find any pixels within central ellipse and set their values to zero \"\"\"\n",
    "    xmax,ymax = mask.shape\n",
    "    # set center of ellipse as the center of the image\n",
    "    if (xc is None) and (yc is None):\n",
    "        xc,yc = xmax//2,ymax//2\n",
    "    a = sma\n",
    "    b = BA*sma\n",
    "    phirad = np.radians(PA)\n",
    "    p1 = ((X-xc)*np.cos(phirad)+(Y-yc)*np.sin(phirad))**2/a**2\n",
    "    p2 = ((X-xc)*np.sin(phirad)-(Y-yc)*np.cos(phirad))**2/b**2\n",
    "    flag2 = p1+p2 < 1\n",
    "    newmask = np.copy(mask)\n",
    "    newmask[flag2] = 0\n",
    "    return newmask\n"
   ]
  },
  {
   "cell_type": "code",
   "execution_count": 50,
   "metadata": {},
   "outputs": [
    {
     "data": {
      "text/plain": [
       "<matplotlib.colorbar.Colorbar at 0x7f9359414fd0>"
      ]
     },
     "execution_count": 50,
     "metadata": {},
     "output_type": "execute_result"
    },
    {
     "data": {
      "image/png": "[encoded data removed]",
      "text/plain": [
       "<Figure size 432x288 with 2 Axes>"
      ]
     },
     "metadata": {
      "needs_background": "light"
     },
     "output_type": "display_data"
    }
   ],
   "source": [
    "plt.figure()\n",
    "plt.imshow(mhdu[0].data,origin='lower')\n",
    "plt.colorbar()"
   ]
  },
  {
   "cell_type": "code",
   "execution_count": 51,
   "metadata": {},
   "outputs": [
    {
     "data": {
      "text/plain": [
       "<matplotlib.image.AxesImage at 0x7f9338ec0910>"
      ]
     },
     "execution_count": 51,
     "metadata": {},
     "output_type": "execute_result"
    },
    {
     "data": {
      "image/png": "[encoded data removed]",
      "text/plain": [
       "<Figure size 432x288 with 2 Axes>"
      ]
     },
     "metadata": {
      "needs_background": "light"
     },
     "output_type": "display_data"
    }
   ],
   "source": [
    "PA = 30\n",
    "sma = 250\n",
    "BA = .5\n",
    "a = sma\n",
    "b = BA*a\n",
    "xc = 350\n",
    "yc = 350\n",
    "\n",
    "newmask = remove_central_objects(mhdu[0].data,sma,90-PA,BA)\n",
    "plt.figure()\n",
    "plt.subplot(1,2,1)\n",
    "plt.imshow(mhdu[0].data,origin='lower')\n",
    "plt.subplot(1,2,2)\n",
    "plt.imshow(newmask,origin='lower')"
   ]
  },
  {
   "cell_type": "markdown",
   "metadata": {},
   "source": [
    "# Testing on one galaxy"
   ]
  },
  {
   "cell_type": "code",
   "execution_count": 3,
   "metadata": {},
   "outputs": [],
   "source": [
    "os.chdir(homedir+'/research/Virgo/maskwrapper-test/VFID0775-UGC09837-BOK-20220425-VFID0776')"
   ]
  },
  {
   "cell_type": "code",
   "execution_count": 7,
   "metadata": {},
   "outputs": [],
   "source": [
    "# import programs\n",
    "import os\n",
    "import numpy as np\n",
    "from astropy.io import fits\n",
    "from astropy.wcs import WCS\n",
    "from matplotlib import pyplot as plt\n",
    "homedir = os.getenv(\"HOME\")\n"
   ]
  },
  {
   "cell_type": "code",
   "execution_count": 18,
   "metadata": {},
   "outputs": [
    {
     "ename": "ValueError",
     "evalue": "PyCapsule_GetPointer called with incorrect name",
     "output_type": "error",
     "traceback": [
      "\u001b[0;31m---------------------------------------------------------------------------\u001b[0m",
      "\u001b[0;31mValueError\u001b[0m                                Traceback (most recent call last)",
      "\u001b[0;32m<ipython-input-18-d4b68b05f0bd>\u001b[0m in \u001b[0;36m<module>\u001b[0;34m\u001b[0m\n\u001b[1;32m      1\u001b[0m \u001b[0;32mimport\u001b[0m \u001b[0msys\u001b[0m\u001b[0;34m\u001b[0m\u001b[0;34m\u001b[0m\u001b[0m\n\u001b[1;32m      2\u001b[0m \u001b[0msys\u001b[0m\u001b[0;34m.\u001b[0m\u001b[0mpath\u001b[0m\u001b[0;34m.\u001b[0m\u001b[0mappend\u001b[0m\u001b[0;34m(\u001b[0m\u001b[0mhomedir\u001b[0m\u001b[0;34m+\u001b[0m\u001b[0;34m'/github/halphagui/'\u001b[0m\u001b[0;34m)\u001b[0m\u001b[0;34m\u001b[0m\u001b[0;34m\u001b[0m\u001b[0m\n\u001b[0;32m----> 3\u001b[0;31m \u001b[0;32mfrom\u001b[0m \u001b[0mmaskwrapper\u001b[0m \u001b[0;32mimport\u001b[0m \u001b[0mmaskwindow\u001b[0m\u001b[0;34m\u001b[0m\u001b[0;34m\u001b[0m\u001b[0m\n\u001b[0m",
      "\u001b[0;32m~/github/halphagui/maskwrapper.py\u001b[0m in \u001b[0;36m<module>\u001b[0;34m\u001b[0m\n\u001b[1;32m     53\u001b[0m \u001b[0;31m#from maskGui import Ui_maskWindow\u001b[0m\u001b[0;34m\u001b[0m\u001b[0;34m\u001b[0m\u001b[0;34m\u001b[0m\u001b[0m\n\u001b[1;32m     54\u001b[0m \u001b[0;32mfrom\u001b[0m \u001b[0mmaskWidget\u001b[0m \u001b[0;32mimport\u001b[0m \u001b[0mUi_Form\u001b[0m \u001b[0;32mas\u001b[0m \u001b[0mUi_maskWindow\u001b[0m\u001b[0;34m\u001b[0m\u001b[0;34m\u001b[0m\u001b[0m\n\u001b[0;32m---> 55\u001b[0;31m \u001b[0;32mfrom\u001b[0m \u001b[0mhalphaCommon\u001b[0m \u001b[0;32mimport\u001b[0m \u001b[0mcutout_image\u001b[0m\u001b[0;34m,\u001b[0m \u001b[0mcircle_pixels\u001b[0m\u001b[0;34m\u001b[0m\u001b[0;34m\u001b[0m\u001b[0m\n\u001b[0m\u001b[1;32m     56\u001b[0m \u001b[0;34m\u001b[0m\u001b[0m\n\u001b[1;32m     57\u001b[0m \u001b[0;32mtry\u001b[0m\u001b[0;34m:\u001b[0m\u001b[0;34m\u001b[0m\u001b[0;34m\u001b[0m\u001b[0m\n",
      "\u001b[0;32m~/github/halphagui/halphaCommon.py\u001b[0m in \u001b[0;36m<module>\u001b[0;34m\u001b[0m\n\u001b[1;32m      8\u001b[0m \u001b[0;31m#from halphav3 import Ui_MainWindow\u001b[0m\u001b[0;34m\u001b[0m\u001b[0;34m\u001b[0m\u001b[0;34m\u001b[0m\u001b[0m\n\u001b[1;32m      9\u001b[0m \u001b[0;32mtry\u001b[0m\u001b[0;34m:\u001b[0m\u001b[0;34m\u001b[0m\u001b[0;34m\u001b[0m\u001b[0m\n\u001b[0;32m---> 10\u001b[0;31m     \u001b[0;32mfrom\u001b[0m \u001b[0mginga\u001b[0m\u001b[0;34m.\u001b[0m\u001b[0mqtw\u001b[0m\u001b[0;34m.\u001b[0m\u001b[0mImageViewQt\u001b[0m \u001b[0;32mimport\u001b[0m \u001b[0mCanvasView\u001b[0m\u001b[0;34m,\u001b[0m \u001b[0mScrolledView\u001b[0m\u001b[0;34m\u001b[0m\u001b[0;34m\u001b[0m\u001b[0m\n\u001b[0m\u001b[1;32m     11\u001b[0m     \u001b[0;31m#from ginga.mplw.ImageViewCanvasMpl import ImageViewCanvas\u001b[0m\u001b[0;34m\u001b[0m\u001b[0;34m\u001b[0m\u001b[0;34m\u001b[0m\u001b[0m\n\u001b[1;32m     12\u001b[0m     \u001b[0;32mfrom\u001b[0m \u001b[0mginga\u001b[0m\u001b[0;34m.\u001b[0m\u001b[0mmplw\u001b[0m\u001b[0;34m.\u001b[0m\u001b[0mImageViewMpl\u001b[0m \u001b[0;32mimport\u001b[0m \u001b[0mImageView\u001b[0m\u001b[0;34m\u001b[0m\u001b[0;34m\u001b[0m\u001b[0m\n",
      "\u001b[0;32m~/anaconda3/lib/python3.8/site-packages/ginga/qtw/ImageViewQt.py\u001b[0m in \u001b[0;36m<module>\u001b[0;34m\u001b[0m\n\u001b[1;32m     13\u001b[0m \u001b[0;32mfrom\u001b[0m \u001b[0mginga\u001b[0m \u001b[0;32mimport\u001b[0m \u001b[0mImageView\u001b[0m\u001b[0;34m,\u001b[0m \u001b[0mMixins\u001b[0m\u001b[0;34m,\u001b[0m \u001b[0mBindings\u001b[0m\u001b[0;34m\u001b[0m\u001b[0;34m\u001b[0m\u001b[0m\n\u001b[1;32m     14\u001b[0m \u001b[0;32mfrom\u001b[0m \u001b[0mginga\u001b[0m\u001b[0;34m.\u001b[0m\u001b[0mutil\u001b[0m\u001b[0;34m.\u001b[0m\u001b[0mpaths\u001b[0m \u001b[0;32mimport\u001b[0m \u001b[0micondir\u001b[0m\u001b[0;34m\u001b[0m\u001b[0;34m\u001b[0m\u001b[0m\n\u001b[0;32m---> 15\u001b[0;31m from ginga.qtw.QtHelp import (QtGui, QtCore, QImage, QPixmap, QCursor,\n\u001b[0m\u001b[1;32m     16\u001b[0m                               \u001b[0mQPainter\u001b[0m\u001b[0;34m,\u001b[0m \u001b[0mQOpenGLWidget\u001b[0m\u001b[0;34m,\u001b[0m \u001b[0mQSurfaceFormat\u001b[0m\u001b[0;34m,\u001b[0m\u001b[0;34m\u001b[0m\u001b[0;34m\u001b[0m\u001b[0m\n\u001b[1;32m     17\u001b[0m                               Timer, get_scroll_info, get_painter)\n",
      "\u001b[0;32m~/anaconda3/lib/python3.8/site-packages/ginga/qtw/QtHelp.py\u001b[0m in \u001b[0;36m<module>\u001b[0;34m\u001b[0m\n\u001b[1;32m     54\u001b[0m     \u001b[0;31m##     import sip\u001b[0m\u001b[0;34m\u001b[0m\u001b[0;34m\u001b[0m\u001b[0;34m\u001b[0m\u001b[0m\n\u001b[1;32m     55\u001b[0m     \u001b[0;32mtry\u001b[0m\u001b[0;34m:\u001b[0m\u001b[0;34m\u001b[0m\u001b[0;34m\u001b[0m\u001b[0m\n\u001b[0;32m---> 56\u001b[0;31m         \u001b[0;32mfrom\u001b[0m \u001b[0mqtpy\u001b[0m\u001b[0;34m.\u001b[0m\u001b[0mQtWebEngineWidgets\u001b[0m \u001b[0;32mimport\u001b[0m \u001b[0mQWebEngineView\u001b[0m \u001b[0;32mas\u001b[0m \u001b[0mQWebView\u001b[0m  \u001b[0;31m# noqa\u001b[0m\u001b[0;34m\u001b[0m\u001b[0;34m\u001b[0m\u001b[0m\n\u001b[0m\u001b[1;32m     57\u001b[0m     \u001b[0;32mexcept\u001b[0m \u001b[0mImportError\u001b[0m \u001b[0;32mas\u001b[0m \u001b[0me\u001b[0m\u001b[0;34m:\u001b[0m\u001b[0;34m\u001b[0m\u001b[0;34m\u001b[0m\u001b[0m\n\u001b[1;32m     58\u001b[0m         \u001b[0;32mpass\u001b[0m\u001b[0;34m\u001b[0m\u001b[0;34m\u001b[0m\u001b[0m\n",
      "\u001b[0;32m~/anaconda3/lib/python3.8/site-packages/qtpy/QtWebEngineWidgets.py\u001b[0m in \u001b[0;36m<module>\u001b[0;34m\u001b[0m\n\u001b[1;32m     26\u001b[0m \u001b[0;32mif\u001b[0m \u001b[0mPYQT5\u001b[0m\u001b[0;34m:\u001b[0m\u001b[0;34m\u001b[0m\u001b[0;34m\u001b[0m\u001b[0m\n\u001b[1;32m     27\u001b[0m     \u001b[0;32mtry\u001b[0m\u001b[0;34m:\u001b[0m\u001b[0;34m\u001b[0m\u001b[0;34m\u001b[0m\u001b[0m\n\u001b[0;32m---> 28\u001b[0;31m         \u001b[0;32mfrom\u001b[0m \u001b[0mPyQt5\u001b[0m\u001b[0;34m.\u001b[0m\u001b[0mQtWebEngineWidgets\u001b[0m \u001b[0;32mimport\u001b[0m \u001b[0mQWebEnginePage\u001b[0m\u001b[0;34m\u001b[0m\u001b[0;34m\u001b[0m\u001b[0m\n\u001b[0m\u001b[1;32m     29\u001b[0m         \u001b[0;32mfrom\u001b[0m \u001b[0mPyQt5\u001b[0m\u001b[0;34m.\u001b[0m\u001b[0mQtWebEngineWidgets\u001b[0m \u001b[0;32mimport\u001b[0m \u001b[0mQWebEngineView\u001b[0m\u001b[0;34m\u001b[0m\u001b[0;34m\u001b[0m\u001b[0m\n\u001b[1;32m     30\u001b[0m         \u001b[0;32mfrom\u001b[0m \u001b[0mPyQt5\u001b[0m\u001b[0;34m.\u001b[0m\u001b[0mQtWebEngineWidgets\u001b[0m \u001b[0;32mimport\u001b[0m \u001b[0mQWebEngineSettings\u001b[0m\u001b[0;34m\u001b[0m\u001b[0;34m\u001b[0m\u001b[0m\n",
      "\u001b[0;31mValueError\u001b[0m: PyCapsule_GetPointer called with incorrect name"
     ]
    }
   ],
   "source": [
    "import sys\n",
    "sys.path.append(homedir+'/github/halphagui/')\n",
    "from maskwrapper import maskwindow"
   ]
  },
  {
   "cell_type": "code",
   "execution_count": 5,
   "metadata": {},
   "outputs": [
    {
     "name": "stderr",
     "output_type": "stream",
     "text": [
      "WARNING: UnitsWarning: ''dex'' did not parse as fits unit: At col 0, Unit ''dex'' not supported by the FITS standard.  If this is meant to be a custom unit, define it with 'u.def_unit'. To have it recognized inside a file reader or other code, enable it with 'u.add_enabled_units'. For details, see https://docs.astropy.org/en/latest/units/combining_and_defining.html [astropy.units.core]\n",
      "WARNING: UnitsWarning: 'log(solMass)' did not parse as fits unit: 'log' is not a recognized function If this is meant to be a custom unit, define it with 'u.def_unit'. To have it recognized inside a file reader or other code, enable it with 'u.add_enabled_units'. For details, see https://docs.astropy.org/en/latest/units/combining_and_defining.html [astropy.units.core]\n",
      "WARNING: UnitsWarning: 'log(solMass/yr)' did not parse as fits unit: 'log' is not a recognized function If this is meant to be a custom unit, define it with 'u.def_unit'. To have it recognized inside a file reader or other code, enable it with 'u.add_enabled_units'. For details, see https://docs.astropy.org/en/latest/units/combining_and_defining.html [astropy.units.core]\n"
     ]
    }
   ],
   "source": [
    "# read in virgo files and get igal\n",
    "%run ~/github/Virgo/programs/readtablesv2.py"
   ]
  },
  {
   "cell_type": "code",
   "execution_count": 8,
   "metadata": {},
   "outputs": [],
   "source": [
    "# set up image names\n",
    "rcutout = 'VFID0775-UGC09837-BOK-20220425-VFID0776-R.fits'\n",
    "\n",
    "wcs = WCS(fits.getheader(rcutout))      "
   ]
  },
  {
   "cell_type": "code",
   "execution_count": 15,
   "metadata": {},
   "outputs": [
    {
     "name": "stdout",
     "output_type": "stream",
     "text": [
      "775\n"
     ]
    },
    {
     "data": {
      "text/plain": [
       "230.965329"
      ]
     },
     "execution_count": 15,
     "metadata": {},
     "output_type": "execute_result"
    }
   ],
   "source": [
    "# get galaxy\n",
    "igal = v.main['VFID'] == 'VFID0775'\n",
    "igal = np.arange(len(v.main))[igal][0]\n",
    "print(igal)\n",
    "v.main['RA'][igal]"
   ]
  },
  {
   "cell_type": "code",
   "execution_count": 29,
   "metadata": {},
   "outputs": [
    {
     "name": "stdout",
     "output_type": "stream",
     "text": [
      "--objra 230.965329 --objdec 58.0529766 --objsma 54.9 --objBA 0.89 --objPA 128.82\n"
     ]
    }
   ],
   "source": [
    "# set up objparams\n",
    "ra = v.main['RA'][igal]\n",
    "dec = v.main['DEC'][igal]\n",
    "sma = v.ephot['SMA_SB24'][igal]\n",
    "BA = v.ephot['BA_MOMENT'][igal]\n",
    "PA = v.ephot['PA_MOMENT'][igal]\n",
    "\n",
    "#convert \n",
    "# get x and y coord of galaxy from (RA,DEC) using mask wcs\n",
    "xpixel,ypixel = wcs.wcs_world2pix(ra,dec,0)\n",
    "            \n",
    "# convert sma to pixels using pixel scale from mask wcs\n",
    "pixel_scale = wcs.pixel_scale_matrix[1][1]\n",
    "objsma_pixels = sma/(pixel_scale*3600)\n",
    "objparams = [ra,dec,sma/pixel_scale,BA,PA]\n",
    "print(f\"--objra {ra} --objdec {dec} --objsma {1.3*sma:.1f} --objBA {BA:.2f} --objPA {PA:.2f}\")"
   ]
  },
  {
   "cell_type": "code",
   "execution_count": 17,
   "metadata": {},
   "outputs": [
    {
     "ename": "NameError",
     "evalue": "name 'maskwindow' is not defined",
     "output_type": "error",
     "traceback": [
      "\u001b[0;31m---------------------------------------------------------------------------\u001b[0m",
      "\u001b[0;31mNameError\u001b[0m                                 Traceback (most recent call last)",
      "\u001b[0;32m<ipython-input-17-4f22f06dd53d>\u001b[0m in \u001b[0;36m<module>\u001b[0;34m\u001b[0m\n\u001b[0;32m----> 1\u001b[0;31m mui = maskwindow(None, None, image = rcutout, haimage=None,\\\n\u001b[0m\u001b[1;32m      2\u001b[0m                  \u001b[0msepath\u001b[0m\u001b[0;34m=\u001b[0m\u001b[0;34m'~/github/halphagui/astromatic/'\u001b[0m\u001b[0;34m,\u001b[0m\u001b[0mauto\u001b[0m\u001b[0;34m=\u001b[0m\u001b[0;32mTrue\u001b[0m\u001b[0;34m,\u001b[0m\u001b[0;31m\\\u001b[0m\u001b[0;34m\u001b[0m\u001b[0;34m\u001b[0m\u001b[0m\n\u001b[1;32m      3\u001b[0m                  objparams=objparams,unmaskellipse=True)\n\u001b[1;32m      4\u001b[0m \u001b[0;34m\u001b[0m\u001b[0m\n",
      "\u001b[0;31mNameError\u001b[0m: name 'maskwindow' is not defined"
     ]
    }
   ],
   "source": [
    "\n",
    "mui = maskwindow(None, None, image = rcutout, haimage=None,\\\n",
    "                 sepath='~/github/halphagui/astromatic/',auto=True,\\\n",
    "                 objparams=objparams,unmaskellipse=True)\n",
    "                           "
   ]
  },
  {
   "cell_type": "code",
   "execution_count": null,
   "metadata": {},
   "outputs": [],
   "source": []
  }
 ],
 "metadata": {
  "kernelspec": {
   "display_name": "Python 3",
   "language": "python",
   "name": "python3"
  },
  "language_info": {
   "codemirror_mode": {
    "name": "ipython",
    "version": 3
   },
   "file_extension": ".py",
   "mimetype": "text/x-python",
   "name": "python",
   "nbconvert_exporter": "python",
   "pygments_lexer": "ipython3",
   "version": "3.8.5"
  }
 },
 "nbformat": 4,
 "nbformat_minor": 4
}
